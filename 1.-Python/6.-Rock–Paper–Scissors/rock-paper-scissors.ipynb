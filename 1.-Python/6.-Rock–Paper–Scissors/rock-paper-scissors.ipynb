{
 "cells": [
  {
   "cell_type": "markdown",
   "metadata": {},
   "source": [
    "<img src=\"https://bit.ly/2VnXWr2\" width=\"100\" align=\"left\">"
   ]
  },
  {
   "cell_type": "markdown",
   "metadata": {},
   "source": [
    "# Rock, Paper & Scissors\n",
    "\n",
    "Let's play the famous game against our computer. You can check the rules [here](https://en.wikipedia.org/wiki/Rock%E2%80%93paper%E2%80%93scissors). \n",
    "\n",
    "## Task\n",
    "Create a program that imitates the playability of the well known game of rock, paper, scissors. Follow the guidelines provided.\n",
    "\n",
    "## Tools\n",
    "1. Loop: **for/while**\n",
    "2. Functions: **input(), print()...**\n",
    "3. Conditional statements: **if, elif, else**\n",
    "4. Definition of functions. Modular programming\n",
    "5. Import modules\n",
    "\n",
    "**To solve this challenge, the use of functions is recommended.**\n",
    "\n",
    "#### 1. Import the choice function of the random module."
   ]
  },
  {
   "cell_type": "code",
   "execution_count": 72,
   "metadata": {},
   "outputs": [],
   "source": [
    "import random"
   ]
  },
  {
   "cell_type": "markdown",
   "metadata": {},
   "source": [
    "#### 2. Create a list that includes the 3 possible gesture options of the game: 'rock', 'paper' or 'scissors'. Store the list in a variable called `gestures`."
   ]
  },
  {
   "cell_type": "code",
   "execution_count": 73,
   "metadata": {},
   "outputs": [],
   "source": [
    "gestures = ['rock', 'paper', 'scissors']"
   ]
  },
  {
   "cell_type": "markdown",
   "metadata": {},
   "source": [
    "#### 3. Create a variable called `n_rounds` to store the maximum number of rounds to play in a game. \n",
    "Remember that the number of rounds must be odd: 1, 3, 5, ..."
   ]
  },
  {
   "cell_type": "code",
   "execution_count": 74,
   "metadata": {},
   "outputs": [],
   "source": [
    "n_rounds = 11"
   ]
  },
  {
   "cell_type": "markdown",
   "metadata": {},
   "source": [
    "#### 4. Create a variable called `rounds_to_win` to store the number of rounds that a player must win to win the game.\n",
    "**Hint**: the value stored in `rounds_to_win` depends on the value of `n_rounds`. "
   ]
  },
  {
   "cell_type": "code",
   "execution_count": 75,
   "metadata": {},
   "outputs": [],
   "source": [
    "rounds_to_win = 6"
   ]
  },
  {
   "cell_type": "markdown",
   "metadata": {},
   "source": [
    "#### 5. Create two variables to store the number of rounds that the computer and the player have won. Call these variables `cpu_score` and `player_score`."
   ]
  },
  {
   "cell_type": "code",
   "execution_count": 82,
   "metadata": {},
   "outputs": [],
   "source": [
    "cpu_score = 0\n",
    "player_score = 0"
   ]
  },
  {
   "cell_type": "markdown",
   "metadata": {},
   "source": [
    "#### 6. Define a function that randomly returns one of the 3 gesture options.\n",
    "You will use this function to simulate the gesture choice of the computer. "
   ]
  },
  {
   "cell_type": "code",
   "execution_count": 83,
   "metadata": {},
   "outputs": [],
   "source": [
    "def random_gesture():\n",
    "    chosen_gesture = random.choice(gestures)\n",
    "    return chosen_gesture"
   ]
  },
  {
   "cell_type": "markdown",
   "metadata": {},
   "source": [
    "#### 7. Define a function that asks the player which is the gesture he or she wants to show: 'rock', 'paper' or 'scissors'.\n",
    "The player should only be allowed to choose one of the 3 gesture options. If the player's choice is not rock, paper or scissors, keep asking until it is."
   ]
  },
  {
   "cell_type": "code",
   "execution_count": 84,
   "metadata": {},
   "outputs": [],
   "source": [
    "def player_input():\n",
    "    player_gesture = input(\"What is your chosen gesture? You can choose one of the following: rock, paper or scissors. No capital letters! \")\n",
    "    while player_gesture not in gestures:\n",
    "        print(\"Please make the correct choice, in accordance with the given instruction\")\n",
    "        player_gesture = input(\"What is your chosen gesture? You can choose one of the following: rock, paper or scissors. No capital letters! \")\n",
    "    return(player_gesture)"
   ]
  },
  {
   "cell_type": "markdown",
   "metadata": {},
   "source": [
    "#### 8. Define a function that checks who won a round. \n",
    "The function should return 0 if there is a tie, 1 if the computer wins and 2 if the player wins."
   ]
  },
  {
   "cell_type": "code",
   "execution_count": 85,
   "metadata": {},
   "outputs": [],
   "source": [
    "def win_check(randm, player):\n",
    "    if randm == player:\n",
    "        win_code = 0\n",
    "    elif randm == 'rock':\n",
    "        if player == 'scissors':\n",
    "            win_code = 1\n",
    "        elif player == 'paper':\n",
    "            win_code = 2\n",
    "    elif randm == 'paper':\n",
    "        if player == 'rock':\n",
    "            win_code = 1\n",
    "        elif player == 'scissors':\n",
    "            win_code = 2\n",
    "    elif randm == 'scissors':\n",
    "        if player == 'paper':\n",
    "            win_code = 1\n",
    "        elif player == 'rock':\n",
    "            win_code = 2\n",
    "    return(win_code)"
   ]
  },
  {
   "cell_type": "markdown",
   "metadata": {},
   "source": [
    "#### 9. Define a function that prints the choice of the computer, the choice of the player and a message that announces who won the current round. \n",
    "You should also use this function to update the variables that count the number of rounds that the computer and the player have won. The score of the winner increases by one point. If there is a tie, the score does not increase."
   ]
  },
  {
   "cell_type": "code",
   "execution_count": 86,
   "metadata": {},
   "outputs": [],
   "source": [
    "def round_outcome(win_code, cpu_score, player_score):\n",
    "    print(\"Computer chose: \" + randm)\n",
    "    print(\"You chose: \" + player)\n",
    "    if win_code == 0:\n",
    "        print(\"It is a tie\")\n",
    "    elif win_code == 1:\n",
    "        print(\"Computer has won\")\n",
    "        cpu_score += 1\n",
    "    elif win_code == 2:\n",
    "        print(\"You have won\")\n",
    "        player_score += 1\n",
    "    return(cpu_score, player_score)"
   ]
  },
  {
   "cell_type": "markdown",
   "metadata": {},
   "source": [
    "#### 10. Now it's time to code the execution of the game using the functions and variables you defined above. \n",
    "\n",
    "First, create a loop structure that repeats while no player reaches the minimum score necessary to win and the number of rounds is less than the maximum number of rounds to play in a game.  \n",
    "\n",
    "Inside the loop, use the functions and variables above to create the execution of a round: ask for the player's choice, generate the random choice of the computer, show the round results, update the scores, etc. "
   ]
  },
  {
   "cell_type": "code",
   "execution_count": 87,
   "metadata": {},
   "outputs": [
    {
     "name": "stdout",
     "output_type": "stream",
     "text": [
      "What is your chosen gesture? You can choose one of the following: rock, paper or scissors. No capital letters! paper\n",
      "Computer chose: rock\n",
      "You chose: paper\n",
      "You have won\n",
      "0 1\n",
      "What is your chosen gesture? You can choose one of the following: rock, paper or scissors. No capital letters! rock\n",
      "Computer chose: rock\n",
      "You chose: rock\n",
      "It is a tie\n",
      "0 1\n",
      "What is your chosen gesture? You can choose one of the following: rock, paper or scissors. No capital letters! rock\n",
      "Computer chose: scissors\n",
      "You chose: rock\n",
      "You have won\n",
      "0 2\n",
      "What is your chosen gesture? You can choose one of the following: rock, paper or scissors. No capital letters! scissors\n",
      "Computer chose: rock\n",
      "You chose: scissors\n",
      "Computer has won\n",
      "1 2\n",
      "What is your chosen gesture? You can choose one of the following: rock, paper or scissors. No capital letters! paper\n",
      "Computer chose: rock\n",
      "You chose: paper\n",
      "You have won\n",
      "1 3\n",
      "What is your chosen gesture? You can choose one of the following: rock, paper or scissors. No capital letters! rock\n",
      "Computer chose: paper\n",
      "You chose: rock\n",
      "Computer has won\n",
      "2 3\n",
      "What is your chosen gesture? You can choose one of the following: rock, paper or scissors. No capital letters! rock\n",
      "Computer chose: rock\n",
      "You chose: rock\n",
      "It is a tie\n",
      "2 3\n",
      "What is your chosen gesture? You can choose one of the following: rock, paper or scissors. No capital letters! rock\n",
      "Computer chose: scissors\n",
      "You chose: rock\n",
      "You have won\n",
      "2 4\n",
      "What is your chosen gesture? You can choose one of the following: rock, paper or scissors. No capital letters! paper\n",
      "Computer chose: scissors\n",
      "You chose: paper\n",
      "Computer has won\n",
      "3 4\n",
      "What is your chosen gesture? You can choose one of the following: rock, paper or scissors. No capital letters! scissors\n",
      "Computer chose: paper\n",
      "You chose: scissors\n",
      "You have won\n",
      "3 5\n",
      "What is your chosen gesture? You can choose one of the following: rock, paper or scissors. No capital letters! paper\n",
      "Computer chose: rock\n",
      "You chose: paper\n",
      "You have won\n",
      "3 6\n"
     ]
    }
   ],
   "source": [
    "i_round = 0\n",
    "while i_round<n_rounds and cpu_score<rounds_to_win and player_score<rounds_to_win:\n",
    "    player = player_input()\n",
    "    randm = random_gesture()\n",
    "    win_code = win_check(randm, player)\n",
    "    cpu_score, player_score = round_outcome(win_code, cpu_score, player_score)\n",
    "    print(cpu_score, player_score)\n",
    "    i_round += 1"
   ]
  },
  {
   "cell_type": "markdown",
   "metadata": {},
   "source": [
    "#### 11. Print the winner of the game based on who won more rounds.\n",
    "Remember that the game might be tied. "
   ]
  },
  {
   "cell_type": "code",
   "execution_count": 88,
   "metadata": {},
   "outputs": [
    {
     "name": "stdout",
     "output_type": "stream",
     "text": [
      "Congratulations! You have won the game\n"
     ]
    }
   ],
   "source": [
    "if cpu_score < rounds_to_win and player_score < rounds_to_win:\n",
    "    print(\"nobody has won the game\")\n",
    "else:\n",
    "    if cpu_score == player_score and cpu_score:\n",
    "        print(\"It is a dead tie\")\n",
    "    elif cpu_score > player_score:\n",
    "        print(\"Sorry :(, Computer has won the game\")\n",
    "    else:\n",
    "        print(\"Congratulations! You have won the game\")"
   ]
  },
  {
   "cell_type": "markdown",
   "metadata": {},
   "source": [
    "# Bonus: Rock, Paper, Scissors, Lizard & Spock\n",
    "![](images/rpsls.jpg)\n",
    "\n",
    "In this challenge, you need to improve the previous game by adding two new options. To know more about the rules of the improved version of rock, paper, scissors, check this [link](http://www.samkass.com/theories/RPSSL.html). \n",
    "\n",
    "In addition, you will also need to improve how the game interacts with the player: the number of rounds to play, which must be an odd number, will be requested to the user until a valid number is entered. Define a new function to make that request.\n",
    "\n",
    "**Hint**: Try to reuse the code that you already coded in the previous challenge. If your code is efficient, this bonus will only consist of simple modifications to the original game."
   ]
  },
  {
   "cell_type": "code",
   "execution_count": 287,
   "metadata": {},
   "outputs": [],
   "source": [
    "gestures_b = ['rock', 'paper', 'scissors', 'lizard', 'spock']"
   ]
  },
  {
   "cell_type": "code",
   "execution_count": 288,
   "metadata": {},
   "outputs": [],
   "source": [
    "cpu_score = 0\n",
    "player_score = 0"
   ]
  },
  {
   "cell_type": "code",
   "execution_count": 289,
   "metadata": {},
   "outputs": [],
   "source": [
    "def rounds_to_play():\n",
    "    n_rounds = eval(input(\"Please enter the number of rounds to play. It must be an odd number: \"))\n",
    "    while n_rounds%2 != 1:\n",
    "        print(\"The input has to be an odd integer\")\n",
    "        n_rounds = eval(input(\"Please enter the number of rounds to play. It must be an odd number: \"))\n",
    "    return(n_rounds)"
   ]
  },
  {
   "cell_type": "code",
   "execution_count": 290,
   "metadata": {},
   "outputs": [],
   "source": [
    "def rounds_to_win():\n",
    "    rounds_to_win = eval(input(\"Please enter the number of rounds to play: \"))\n",
    "    while rounds_to_win%2 != 1 and rounds_to_win%2 != 0:\n",
    "        print(\"The input has to be an integer\")\n",
    "        rounds_to_win = eval(input(\"Please enter the number of rounds to play: \"))\n",
    "    return(rounds_to_win)"
   ]
  },
  {
   "cell_type": "code",
   "execution_count": 297,
   "metadata": {},
   "outputs": [],
   "source": [
    "def player_input():\n",
    "    player_gesture = input(\"What is your chosen gesture? You can choose one of the following: rock, paper, scissors, lizard or spock. No capital letters! \")\n",
    "    while player_gesture not in gestures_b:\n",
    "        print(\"Please make the correct choice, in accordance with the given instruction\")\n",
    "        player_gesture = input(\"What is your chosen gesture? You can choose one of the following: rock, paper, scissors, lizard or spock. No capital letters! \")\n",
    "    return(player_gesture)"
   ]
  },
  {
   "cell_type": "code",
   "execution_count": 292,
   "metadata": {},
   "outputs": [],
   "source": [
    "def random_gesture():\n",
    "    chosen_gesture = random.choice(gestures_b)\n",
    "    return chosen_gesture"
   ]
  },
  {
   "cell_type": "code",
   "execution_count": 293,
   "metadata": {},
   "outputs": [],
   "source": [
    "def win_check(randm, player):\n",
    "    if randm == player:\n",
    "        win_code = 0\n",
    "    elif randm == 'rock':\n",
    "        if player == 'scissors' or player == 'lizard':\n",
    "            win_code = 1\n",
    "        elif player == 'paper' or player == 'spock':\n",
    "            win_code = 2\n",
    "    elif randm == 'paper':\n",
    "        if player == 'rock' or player == 'spock':\n",
    "            win_code = 1\n",
    "        elif player == 'scissors' or player == 'lizard':\n",
    "            win_code = 2\n",
    "    elif randm == 'scissors':\n",
    "        if player == 'paper' or player == 'lizard':\n",
    "            win_code = 1\n",
    "        elif player == 'rock' or player == 'spock':\n",
    "            win_code = 2\n",
    "    elif randm == 'lizard':\n",
    "        if player == 'paper' or player == 'spock':\n",
    "            win_code = 1\n",
    "        elif player == 'rock' or player == 'scissors':\n",
    "            win_code = 2\n",
    "    elif randm == 'spock':\n",
    "        if player == 'scissors' or player == 'rock':\n",
    "            win_code = 1\n",
    "        elif player == 'lizard' or player == 'paper':\n",
    "            win_code = 2\n",
    "    return(win_code)"
   ]
  },
  {
   "cell_type": "code",
   "execution_count": 294,
   "metadata": {},
   "outputs": [],
   "source": [
    "def round_outcome(win_code, cpu_score, player_score):\n",
    "    print(\"Computer chose: \" + randm)\n",
    "    print(\"You chose: \" + player)\n",
    "    if win_code == 0:\n",
    "        print(\"It is a tie\")\n",
    "    elif win_code == 1:\n",
    "        print(\"Computer has won\")\n",
    "        cpu_score += 1\n",
    "    elif win_code == 2:\n",
    "        print(\"You have won\")\n",
    "        player_score += 1\n",
    "    return(cpu_score, player_score)"
   ]
  },
  {
   "cell_type": "code",
   "execution_count": 295,
   "metadata": {},
   "outputs": [
    {
     "name": "stdout",
     "output_type": "stream",
     "text": [
      "Please enter the number of rounds to play. It must be an odd number: 10\n",
      "The input has to be an odd integer\n",
      "Please enter the number of rounds to play. It must be an odd number: 11\n",
      "Please enter the number of rounds to play: 5\n",
      "What is your chosen gesture? You can choose one of the following: rock, paper, scissors, lizard or spock. No capital letters! rock\n",
      "paper\n",
      "Computer chose: paper\n",
      "You chose: rock\n",
      "Computer has won\n",
      "1 0\n",
      "What is your chosen gesture? You can choose one of the following: rock, paper, scissors, lizard or spock. No capital letters! spock\n",
      "rock\n",
      "Computer chose: rock\n",
      "You chose: spock\n",
      "You have won\n",
      "1 1\n",
      "What is your chosen gesture? You can choose one of the following: rock, paper, scissors, lizard or spock. No capital letters! lizard\n",
      "rock\n",
      "Computer chose: rock\n",
      "You chose: lizard\n",
      "Computer has won\n",
      "2 1\n",
      "What is your chosen gesture? You can choose one of the following: rock, paper, scissors, lizard or spock. No capital letters! spock\n",
      "rock\n",
      "Computer chose: rock\n",
      "You chose: spock\n",
      "You have won\n",
      "2 2\n",
      "What is your chosen gesture? You can choose one of the following: rock, paper, scissors, lizard or spock. No capital letters! lizard\n",
      "spock\n",
      "Computer chose: spock\n",
      "You chose: lizard\n",
      "You have won\n",
      "2 3\n",
      "What is your chosen gesture? You can choose one of the following: rock, paper, scissors, lizard or spock. No capital letters! scissors\n",
      "rock\n",
      "Computer chose: rock\n",
      "You chose: scissors\n",
      "Computer has won\n",
      "3 3\n",
      "What is your chosen gesture? You can choose one of the following: rock, paper, scissors, lizard or spock. No capital letters! lizard\n",
      "spock\n",
      "Computer chose: spock\n",
      "You chose: lizard\n",
      "You have won\n",
      "3 4\n",
      "What is your chosen gesture? You can choose one of the following: rock, paper, scissors, lizard or spock. No capital letters! spock\n",
      "scissors\n",
      "Computer chose: scissors\n",
      "You chose: spock\n",
      "You have won\n",
      "3 5\n"
     ]
    }
   ],
   "source": [
    "i_round = 0\n",
    "n_rounds = rounds_to_play()\n",
    "rounds_to_win = rounds_to_win()\n",
    "while i_round<n_rounds and cpu_score<rounds_to_win and player_score<rounds_to_win:\n",
    "    player = player_input()\n",
    "    randm = random_gesture()\n",
    "    print(randm)\n",
    "    win_code = win_check(randm, player)\n",
    "    cpu_score, player_score = round_outcome(win_code, cpu_score, player_score)\n",
    "    print(cpu_score, player_score)\n",
    "    i_round += 1"
   ]
  },
  {
   "cell_type": "code",
   "execution_count": 296,
   "metadata": {},
   "outputs": [
    {
     "name": "stdout",
     "output_type": "stream",
     "text": [
      "Congratulations! You have won the game\n"
     ]
    }
   ],
   "source": [
    "if cpu_score < rounds_to_win and player_score < rounds_to_win:\n",
    "    print(\"nobody has won the game\")\n",
    "else:\n",
    "    if cpu_score == player_score and cpu_score:\n",
    "        print(\"It is a dead tie\")\n",
    "    elif cpu_score > player_score:\n",
    "        print(\"Sorry :(, Computer has won the game\")\n",
    "    else:\n",
    "        print(\"Congratulations! You have won the game\")"
   ]
  }
 ],
 "metadata": {
  "kernelspec": {
   "display_name": "Python 3",
   "language": "python",
   "name": "python3"
  },
  "language_info": {
   "codemirror_mode": {
    "name": "ipython",
    "version": 3
   },
   "file_extension": ".py",
   "mimetype": "text/x-python",
   "name": "python",
   "nbconvert_exporter": "python",
   "pygments_lexer": "ipython3",
   "version": "3.8.5"
  }
 },
 "nbformat": 4,
 "nbformat_minor": 2
}
